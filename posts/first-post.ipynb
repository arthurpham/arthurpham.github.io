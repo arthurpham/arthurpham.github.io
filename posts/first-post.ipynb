{
 "metadata": {
  "name": "",
  "signature": "sha256:e3bf9f930fc6567096cee7292fc6bb9f583359c706a7b0a53e834f989748f025"
 },
 "nbformat": 3,
 "nbformat_minor": 0,
 "worksheets": [
  {
   "cells": [
    {
     "cell_type": "code",
     "collapsed": false,
     "input": [
      "from scipy.stats import norm\n",
      "import math\n",
      "\n",
      "def bscall(strike=100,mat=1,fwd=100,sig=0.1,df=1):\n",
      "    lnfs = math.log(1.0*fwd/strike)\n",
      "    sig2t = sig*sig*mat\n",
      "    sigsqrt = sig*math.sqrt(mat)\n",
      "    d1 = (lnfs + 0.5 * sig2t) / sigsqrt\n",
      "    d2 = (lnfs - 0.5 * sig2t) / sigsqrt\n",
      "    fv = fwd * norm.cdf (d1) - strike * norm.cdf (d2)\n",
      "    return df * fv\n",
      "\n",
      "print bscall(fwd=100, strike=100, sig=0.1, mat=1, df=1)"
     ],
     "language": "python",
     "metadata": {},
     "outputs": [
      {
       "output_type": "stream",
       "stream": "stdout",
       "text": [
        "3.98776116767\n"
       ]
      }
     ],
     "prompt_number": 1
    }
   ],
   "metadata": {}
  }
 ]
}