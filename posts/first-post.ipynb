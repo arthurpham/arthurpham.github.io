{
 "cells": [
  {
   "cell_type": "code",
   "execution_count": 2,
   "metadata": {
    "collapsed": false
   },
   "outputs": [
    {
     "name": "stdout",
     "output_type": "stream",
     "text": [
      "3.98776116767\n"
     ]
    }
   ],
   "source": [
    "from scipy.stats import norm\n",
    "import math\n",
    "\n",
    "def bscall(strike=100,mat=1,fwd=100,sig=0.1,df=1):\n",
    "    lnfs = math.log(1.0*fwd/strike)\n",
    "    sig2t = sig*sig*mat\n",
    "    sigsqrt = sig*math.sqrt(mat)\n",
    "    d1 = (lnfs + 0.5 * sig2t) / sigsqrt\n",
    "    d2 = (lnfs - 0.5 * sig2t) / sigsqrt\n",
    "    fv = fwd * norm.cdf (d1) - strike * norm.cdf (d2)\n",
    "    return df * fv\n",
    "\n",
    "print(bscall(fwd=100, strike=100, sig=0.1, mat=1, df=1))"
   ]
  }
 ],
 "metadata": {
  "kernelspec": {
   "display_name": "Python 3",
   "language": "python",
   "name": "python3"
  },
  "language_info": {
   "codemirror_mode": {
    "name": "ipython",
    "version": 3
   },
   "file_extension": ".py",
   "mimetype": "text/x-python",
   "name": "python",
   "nbconvert_exporter": "python",
   "pygments_lexer": "ipython3",
   "version": "3.5.1"
  }
 },
 "nbformat": 4,
 "nbformat_minor": 0
}
